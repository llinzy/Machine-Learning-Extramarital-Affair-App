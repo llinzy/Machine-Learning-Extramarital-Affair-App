{
 "cells": [
  {
   "cell_type": "code",
   "execution_count": 51,
   "id": "78d077c0-acbb-4c35-9958-f41f2181b475",
   "metadata": {},
   "outputs": [
    {
     "data": {
      "text/plain": [
       "'C:\\\\Users\\\\Lakys\\\\Documents'"
      ]
     },
     "execution_count": 51,
     "metadata": {},
     "output_type": "execute_result"
    }
   ],
   "source": [
    "#Linzy Programming Revision - Python\n",
    "#import modules needed to execute functions\n",
    "#standard modules\n",
    "import warnings\n",
    "warnings.filterwarnings('ignore')\n",
    "import pandas as pd\n",
    "import numpy as np\n",
    "import matplotlib.pyplot as plt\n",
    "import time\n",
    "import csv\n",
    "import sys\n",
    "import random\n",
    "import os\n",
    "from pandas import DataFrame\n",
    "from ranges import RangeDict, Range\n",
    "#%matplotlib inline\n",
    "plt.rcParams['figure.figsize']=(15,6)\n",
    "\n",
    "#data preprocessing modules\n",
    "from sklearn.model_selection import train_test_split\n",
    "from sklearn.pipeline import Pipeline\n",
    "from sklearn.model_selection import RandomizedSearchCV\n",
    "from sklearn.preprocessing import LabelEncoder\n",
    "\n",
    "#model modules\n",
    "from sklearn.ensemble import RandomForestClassifier\n",
    "from sklearn.linear_model import LogisticRegression\n",
    "from sklearn.ensemble import GradientBoostingClassifier\n",
    "from sklearn.svm import SVC\n",
    "\n",
    "#metric modules\n",
    "from sklearn import metrics\n",
    "from sklearn.metrics import classification_report\n",
    "from sklearn.metrics import roc_curve\n",
    "from sklearn.metrics import precision_recall_curve\n",
    "from sklearn.model_selection import cross_val_score\n",
    "from sklearn.metrics import confusion_matrix\n",
    "from sklearn.metrics import roc_auc_score\n",
    "from sklearn.metrics import average_precision_score\n",
    "\n",
    "#get current working directory\n",
    "os.getcwd()"
   ]
  },
  {
   "cell_type": "code",
   "execution_count": 52,
   "id": "7313e97a-f9e4-4dd3-a55a-a6ff53bd965c",
   "metadata": {},
   "outputs": [],
   "source": [
    "#import data from DAT650\n",
    "def dataset(path_filename):\n",
    "\t#insert import error if file does not exist or type is not CSV\n",
    "\ttry:\n",
    "\t\tdata=pd.read_csv(path_filename, encoding='latin1')\n",
    "\t\treturn data\n",
    "\texcept IOError:\n",
    "\t\tprint ('File does not exist or file type is not CSV.')\n",
    "\t\tsys.exit(1)\n",
    "\n",
    "#list path and file name for data to import\n",
    "original_data=dataset('affair.csv')\n",
    "#original_data"
   ]
  },
  {
   "cell_type": "code",
   "execution_count": 53,
   "id": "cd6c7dcb-e2dd-4092-9174-b7ad77ec5db0",
   "metadata": {},
   "outputs": [],
   "source": [
    "od=original_data.iloc[:,1:]"
   ]
  },
  {
   "cell_type": "code",
   "execution_count": 54,
   "id": "73aa79ae-9955-485c-854e-8703d1575b39",
   "metadata": {},
   "outputs": [
    {
     "data": {
      "text/html": [
       "<div>\n",
       "<style scoped>\n",
       "    .dataframe tbody tr th:only-of-type {\n",
       "        vertical-align: middle;\n",
       "    }\n",
       "\n",
       "    .dataframe tbody tr th {\n",
       "        vertical-align: top;\n",
       "    }\n",
       "\n",
       "    .dataframe thead th {\n",
       "        text-align: right;\n",
       "    }\n",
       "</style>\n",
       "<table border=\"1\" class=\"dataframe\">\n",
       "  <thead>\n",
       "    <tr style=\"text-align: right;\">\n",
       "      <th></th>\n",
       "      <th>affairs</th>\n",
       "      <th>gender</th>\n",
       "      <th>age</th>\n",
       "      <th>yearsmarried</th>\n",
       "      <th>children</th>\n",
       "      <th>religiousness</th>\n",
       "      <th>education</th>\n",
       "      <th>occupation</th>\n",
       "      <th>rating</th>\n",
       "      <th>had_affair</th>\n",
       "    </tr>\n",
       "  </thead>\n",
       "  <tbody>\n",
       "    <tr>\n",
       "      <th>0</th>\n",
       "      <td>0</td>\n",
       "      <td>male</td>\n",
       "      <td>37.0</td>\n",
       "      <td>10.00</td>\n",
       "      <td>no</td>\n",
       "      <td>3</td>\n",
       "      <td>18</td>\n",
       "      <td>7</td>\n",
       "      <td>4</td>\n",
       "      <td>no</td>\n",
       "    </tr>\n",
       "    <tr>\n",
       "      <th>1</th>\n",
       "      <td>0</td>\n",
       "      <td>female</td>\n",
       "      <td>27.0</td>\n",
       "      <td>4.00</td>\n",
       "      <td>no</td>\n",
       "      <td>4</td>\n",
       "      <td>14</td>\n",
       "      <td>6</td>\n",
       "      <td>4</td>\n",
       "      <td>no</td>\n",
       "    </tr>\n",
       "    <tr>\n",
       "      <th>2</th>\n",
       "      <td>0</td>\n",
       "      <td>female</td>\n",
       "      <td>32.0</td>\n",
       "      <td>15.00</td>\n",
       "      <td>yes</td>\n",
       "      <td>1</td>\n",
       "      <td>12</td>\n",
       "      <td>1</td>\n",
       "      <td>4</td>\n",
       "      <td>no</td>\n",
       "    </tr>\n",
       "    <tr>\n",
       "      <th>3</th>\n",
       "      <td>0</td>\n",
       "      <td>male</td>\n",
       "      <td>57.0</td>\n",
       "      <td>15.00</td>\n",
       "      <td>yes</td>\n",
       "      <td>5</td>\n",
       "      <td>18</td>\n",
       "      <td>6</td>\n",
       "      <td>5</td>\n",
       "      <td>no</td>\n",
       "    </tr>\n",
       "    <tr>\n",
       "      <th>4</th>\n",
       "      <td>0</td>\n",
       "      <td>male</td>\n",
       "      <td>22.0</td>\n",
       "      <td>0.75</td>\n",
       "      <td>no</td>\n",
       "      <td>2</td>\n",
       "      <td>17</td>\n",
       "      <td>6</td>\n",
       "      <td>3</td>\n",
       "      <td>no</td>\n",
       "    </tr>\n",
       "  </tbody>\n",
       "</table>\n",
       "</div>"
      ],
      "text/plain": [
       "   affairs  gender   age  yearsmarried children  religiousness  education  \\\n",
       "0        0    male  37.0         10.00       no              3         18   \n",
       "1        0  female  27.0          4.00       no              4         14   \n",
       "2        0  female  32.0         15.00      yes              1         12   \n",
       "3        0    male  57.0         15.00      yes              5         18   \n",
       "4        0    male  22.0          0.75       no              2         17   \n",
       "\n",
       "   occupation  rating had_affair  \n",
       "0           7       4         no  \n",
       "1           6       4         no  \n",
       "2           1       4         no  \n",
       "3           6       5         no  \n",
       "4           6       3         no  "
      ]
     },
     "execution_count": 54,
     "metadata": {},
     "output_type": "execute_result"
    }
   ],
   "source": [
    "od.head()"
   ]
  },
  {
   "cell_type": "code",
   "execution_count": 55,
   "id": "b2ac1d93-9c2a-40c9-8e0a-3733f4e867d1",
   "metadata": {},
   "outputs": [],
   "source": [
    "sortbycolumn = list(od.columns)\n",
    "random.shuffle(sortbycolumn)\n",
    "sortbycolumn=sortbycolumn[0]"
   ]
  },
  {
   "cell_type": "code",
   "execution_count": 56,
   "id": "6cff495e-8add-4c02-9d54-31e8220f1a88",
   "metadata": {},
   "outputs": [
    {
     "data": {
      "text/html": [
       "<div>\n",
       "<style scoped>\n",
       "    .dataframe tbody tr th:only-of-type {\n",
       "        vertical-align: middle;\n",
       "    }\n",
       "\n",
       "    .dataframe tbody tr th {\n",
       "        vertical-align: top;\n",
       "    }\n",
       "\n",
       "    .dataframe thead th {\n",
       "        text-align: right;\n",
       "    }\n",
       "</style>\n",
       "<table border=\"1\" class=\"dataframe\">\n",
       "  <thead>\n",
       "    <tr style=\"text-align: right;\">\n",
       "      <th></th>\n",
       "      <th>affairs</th>\n",
       "      <th>gender</th>\n",
       "      <th>age</th>\n",
       "      <th>yearsmarried</th>\n",
       "      <th>children</th>\n",
       "      <th>religiousness</th>\n",
       "      <th>education</th>\n",
       "      <th>occupation</th>\n",
       "      <th>rating</th>\n",
       "      <th>had_affair</th>\n",
       "    </tr>\n",
       "  </thead>\n",
       "  <tbody>\n",
       "    <tr>\n",
       "      <th>0</th>\n",
       "      <td>2</td>\n",
       "      <td>female</td>\n",
       "      <td>27.0</td>\n",
       "      <td>4.0</td>\n",
       "      <td>no</td>\n",
       "      <td>1</td>\n",
       "      <td>17</td>\n",
       "      <td>3</td>\n",
       "      <td>1</td>\n",
       "      <td>yes</td>\n",
       "    </tr>\n",
       "    <tr>\n",
       "      <th>1</th>\n",
       "      <td>0</td>\n",
       "      <td>male</td>\n",
       "      <td>32.0</td>\n",
       "      <td>4.0</td>\n",
       "      <td>yes</td>\n",
       "      <td>1</td>\n",
       "      <td>18</td>\n",
       "      <td>6</td>\n",
       "      <td>4</td>\n",
       "      <td>no</td>\n",
       "    </tr>\n",
       "    <tr>\n",
       "      <th>2</th>\n",
       "      <td>7</td>\n",
       "      <td>female</td>\n",
       "      <td>37.0</td>\n",
       "      <td>10.0</td>\n",
       "      <td>no</td>\n",
       "      <td>1</td>\n",
       "      <td>20</td>\n",
       "      <td>5</td>\n",
       "      <td>3</td>\n",
       "      <td>yes</td>\n",
       "    </tr>\n",
       "    <tr>\n",
       "      <th>3</th>\n",
       "      <td>0</td>\n",
       "      <td>male</td>\n",
       "      <td>32.0</td>\n",
       "      <td>15.0</td>\n",
       "      <td>yes</td>\n",
       "      <td>1</td>\n",
       "      <td>16</td>\n",
       "      <td>5</td>\n",
       "      <td>5</td>\n",
       "      <td>no</td>\n",
       "    </tr>\n",
       "    <tr>\n",
       "      <th>4</th>\n",
       "      <td>0</td>\n",
       "      <td>male</td>\n",
       "      <td>22.0</td>\n",
       "      <td>1.5</td>\n",
       "      <td>yes</td>\n",
       "      <td>1</td>\n",
       "      <td>14</td>\n",
       "      <td>3</td>\n",
       "      <td>5</td>\n",
       "      <td>no</td>\n",
       "    </tr>\n",
       "  </tbody>\n",
       "</table>\n",
       "</div>"
      ],
      "text/plain": [
       "   affairs  gender   age  yearsmarried children  religiousness  education  \\\n",
       "0        2  female  27.0           4.0       no              1         17   \n",
       "1        0    male  32.0           4.0      yes              1         18   \n",
       "2        7  female  37.0          10.0       no              1         20   \n",
       "3        0    male  32.0          15.0      yes              1         16   \n",
       "4        0    male  22.0           1.5      yes              1         14   \n",
       "\n",
       "   occupation  rating had_affair  \n",
       "0           3       1        yes  \n",
       "1           6       4         no  \n",
       "2           5       3        yes  \n",
       "3           5       5         no  \n",
       "4           3       5         no  "
      ]
     },
     "execution_count": 56,
     "metadata": {},
     "output_type": "execute_result"
    }
   ],
   "source": [
    "od=od.sort_values(by=sortbycolumn).reset_index().iloc[:,1:]\n",
    "od.head()"
   ]
  },
  {
   "cell_type": "code",
   "execution_count": 58,
   "id": "e71e6baf-a496-4df8-a79b-64fbcda57da9",
   "metadata": {},
   "outputs": [
    {
     "data": {
      "text/plain": [
       "had_affair\n",
       "no     451\n",
       "yes    150\n",
       "Name: count, dtype: int64"
      ]
     },
     "execution_count": 58,
     "metadata": {},
     "output_type": "execute_result"
    }
   ],
   "source": [
    "od[\"had_affair\"].value_counts()"
   ]
  },
  {
   "cell_type": "code",
   "execution_count": 7,
   "id": "dcc52d63-7db5-488d-aba9-c3cab44aa38f",
   "metadata": {},
   "outputs": [],
   "source": [
    "dep_variable=od[\"had_affair\"]"
   ]
  },
  {
   "cell_type": "code",
   "execution_count": 8,
   "id": "f1283867-cd7f-414a-b07f-b00bdd57ac36",
   "metadata": {},
   "outputs": [],
   "source": [
    "od=od.drop(\"had_affair\", axis=1)"
   ]
  },
  {
   "cell_type": "code",
   "execution_count": 9,
   "id": "c35de0ba-6c8f-4805-9c90-6e4af00e66f0",
   "metadata": {},
   "outputs": [
    {
     "name": "stdout",
     "output_type": "stream",
     "text": [
      "<class 'pandas.core.frame.DataFrame'>\n",
      "RangeIndex: 601 entries, 0 to 600\n",
      "Data columns (total 9 columns):\n",
      " #   Column         Non-Null Count  Dtype  \n",
      "---  ------         --------------  -----  \n",
      " 0   affairs        601 non-null    int64  \n",
      " 1   gender         601 non-null    object \n",
      " 2   age            601 non-null    float64\n",
      " 3   yearsmarried   601 non-null    float64\n",
      " 4   children       601 non-null    object \n",
      " 5   religiousness  601 non-null    int64  \n",
      " 6   education      601 non-null    int64  \n",
      " 7   occupation     601 non-null    int64  \n",
      " 8   rating         601 non-null    int64  \n",
      "dtypes: float64(2), int64(5), object(2)\n",
      "memory usage: 42.4+ KB\n"
     ]
    }
   ],
   "source": [
    "od.info()"
   ]
  },
  {
   "cell_type": "code",
   "execution_count": 10,
   "id": "4bd35bce-968b-43f9-a755-f22e3423b594",
   "metadata": {},
   "outputs": [],
   "source": [
    "#str_columns=[]\n",
    "#for i in od.columns:\n",
    "#    if type(od[i][0])==str:\n",
    "#        str_columns.append(i)"
   ]
  },
  {
   "cell_type": "code",
   "execution_count": 11,
   "id": "5590ae27-3099-44dc-a4a8-368eb2050ced",
   "metadata": {},
   "outputs": [],
   "source": [
    "#str_columns"
   ]
  },
  {
   "cell_type": "code",
   "execution_count": 12,
   "id": "556e5c8b-9ba4-4073-ad90-908b71014eb1",
   "metadata": {},
   "outputs": [],
   "source": [
    "#create dummies for categorical columnns; including prefix to reference original feature\n",
    "#def dummies(feature):\n",
    "#\tdummy_feature=pd.get_dummies(feature,\n",
    "#\tprefix=feature.name, dtype=int)\n",
    "#\treturn dummy_feature"
   ]
  },
  {
   "cell_type": "code",
   "execution_count": 13,
   "id": "c915521f-6cbc-4f20-82b1-414f9710cce3",
   "metadata": {},
   "outputs": [],
   "source": [
    "#dummy_variables=[]\n",
    "#for i in str_columns:\n",
    "#    dummy_variables.append(dummies(od[i]))  "
   ]
  },
  {
   "cell_type": "code",
   "execution_count": 14,
   "id": "5346dcfd-85e0-4a4e-9a2b-2b773ee882df",
   "metadata": {},
   "outputs": [],
   "source": [
    "#str_dict={}\n",
    "#for i in range(len(dummy_variables)):\n",
    "#    for p in dummy_variables[i].columns:\n",
    "#        str_dict[p]=dummy_variables[i][p]"
   ]
  },
  {
   "cell_type": "code",
   "execution_count": 15,
   "id": "2b731426-3918-4945-bda6-f05afd174163",
   "metadata": {},
   "outputs": [],
   "source": [
    "encoding_dict={\"female\":\"0\", \"male\":\"1\", \"yes\":\"1\",\"no\":\"0\"}"
   ]
  },
  {
   "cell_type": "code",
   "execution_count": 16,
   "id": "b2366104-5a67-4a8a-9bc0-3d34fbe9b394",
   "metadata": {},
   "outputs": [],
   "source": [
    "gdr=[encoding_dict[i] for i in od[\"gender\"]]\n",
    "chldrn=[encoding_dict[i] for i in od[\"children\"]]"
   ]
  },
  {
   "cell_type": "code",
   "execution_count": 17,
   "id": "0b7af338-8f67-42db-b814-c3e3dae6cea0",
   "metadata": {},
   "outputs": [],
   "source": [
    "df=pd.concat([pd.Series(gdr, name=\"gender\"), pd.Series(chldrn, name=\"children\")], axis=1)"
   ]
  },
  {
   "cell_type": "code",
   "execution_count": 18,
   "id": "5d2fcacb-5c27-4486-b525-6b2f9dc21d82",
   "metadata": {},
   "outputs": [],
   "source": [
    "nonstr_columns=[]\n",
    "for i in od.columns:\n",
    "    if type(od[i][0])!=str:\n",
    "        nonstr_columns.append(i)"
   ]
  },
  {
   "cell_type": "code",
   "execution_count": 19,
   "id": "5321e167-0f21-4768-b81f-8b58112dbf2f",
   "metadata": {},
   "outputs": [
    {
     "data": {
      "text/plain": [
       "['affairs',\n",
       " 'age',\n",
       " 'yearsmarried',\n",
       " 'religiousness',\n",
       " 'education',\n",
       " 'occupation',\n",
       " 'rating']"
      ]
     },
     "execution_count": 19,
     "metadata": {},
     "output_type": "execute_result"
    }
   ],
   "source": [
    "nonstr_columns"
   ]
  },
  {
   "cell_type": "code",
   "execution_count": 20,
   "id": "68f4d79e-0d74-4aef-b088-a09799bbd36d",
   "metadata": {},
   "outputs": [],
   "source": [
    "max_values=[]\n",
    "for i in nonstr_columns:\n",
    "    max_values.append(np.max(np.array(od[i])))"
   ]
  },
  {
   "cell_type": "code",
   "execution_count": 21,
   "id": "7b198fc3-bcdc-4d98-b537-503f775db7f2",
   "metadata": {},
   "outputs": [
    {
     "data": {
      "text/plain": [
       "[12, 57.0, 15.0, 5, 20, 7, 5]"
      ]
     },
     "execution_count": 21,
     "metadata": {},
     "output_type": "execute_result"
    }
   ],
   "source": [
    "max_values"
   ]
  },
  {
   "cell_type": "code",
   "execution_count": 22,
   "id": "c2430153-0d27-4aa5-9a09-ab4d259a6202",
   "metadata": {},
   "outputs": [],
   "source": [
    "range_dict=[]\n",
    "for i in max_values:\n",
    "    quartiles=[]\n",
    "    quartiles.append(0)\n",
    "    quartiles.append(round((i/2)/2))\n",
    "    quartiles.append(round(i/2))\n",
    "    quartiles.append(round(i-((i/2))/2))\n",
    "    quartiles.append(i)\n",
    "    range_dict.append(quartiles)               "
   ]
  },
  {
   "cell_type": "code",
   "execution_count": 23,
   "id": "17f15b28-870a-420a-9e18-581390d127d8",
   "metadata": {},
   "outputs": [
    {
     "data": {
      "text/plain": [
       "[[0, 3, 6, 9, 12],\n",
       " [0, 14, 28, 43, 57.0],\n",
       " [0, 4, 8, 11, 15.0],\n",
       " [0, 1, 2, 4, 5],\n",
       " [0, 5, 10, 15, 20],\n",
       " [0, 2, 4, 5, 7],\n",
       " [0, 1, 2, 4, 5]]"
      ]
     },
     "execution_count": 23,
     "metadata": {},
     "output_type": "execute_result"
    }
   ],
   "source": [
    "range_dict"
   ]
  },
  {
   "cell_type": "code",
   "execution_count": 24,
   "id": "e7312727-ebd7-4cb6-885e-99c264db32e9",
   "metadata": {},
   "outputs": [],
   "source": [
    "continous_variables=[]\n",
    "for i in range_dict:\n",
    "    continous_variables.append(RangeDict({Range(i[0],i[1]):1,Range(i[1],i[2]):2,Range(i[2],i[3]):3,Range(i[3],i[4]+1):4}))"
   ]
  },
  {
   "cell_type": "code",
   "execution_count": 25,
   "id": "49ffffdf-9dbb-43e9-bd68-ce3f3e7e6675",
   "metadata": {},
   "outputs": [
    {
     "data": {
      "text/plain": [
       "[RangeDict{RangeSet{Range[0, 3)}: 1, RangeSet{Range[3, 6)}: 2, RangeSet{Range[6, 9)}: 3, RangeSet{Range[9, 13)}: 4},\n",
       " RangeDict{RangeSet{Range[0, 14)}: 1, RangeSet{Range[14, 28)}: 2, RangeSet{Range[28, 43)}: 3, RangeSet{Range[43, 58.0)}: 4},\n",
       " RangeDict{RangeSet{Range[0, 4)}: 1, RangeSet{Range[4, 8)}: 2, RangeSet{Range[8, 11)}: 3, RangeSet{Range[11, 16.0)}: 4},\n",
       " RangeDict{RangeSet{Range[0, 1)}: 1, RangeSet{Range[1, 2)}: 2, RangeSet{Range[2, 4)}: 3, RangeSet{Range[4, 6)}: 4},\n",
       " RangeDict{RangeSet{Range[0, 5)}: 1, RangeSet{Range[5, 10)}: 2, RangeSet{Range[10, 15)}: 3, RangeSet{Range[15, 21)}: 4},\n",
       " RangeDict{RangeSet{Range[0, 2)}: 1, RangeSet{Range[2, 4)}: 2, RangeSet{Range[4, 5)}: 3, RangeSet{Range[5, 8)}: 4},\n",
       " RangeDict{RangeSet{Range[0, 1)}: 1, RangeSet{Range[1, 2)}: 2, RangeSet{Range[2, 4)}: 3, RangeSet{Range[4, 6)}: 4}]"
      ]
     },
     "execution_count": 25,
     "metadata": {},
     "output_type": "execute_result"
    }
   ],
   "source": [
    "continous_variables"
   ]
  },
  {
   "cell_type": "code",
   "execution_count": 26,
   "id": "2bcc46ef-a64b-41f0-a485-fab584677e3c",
   "metadata": {},
   "outputs": [],
   "source": [
    "for i,k in zip(continous_variables,nonstr_columns):\n",
    "    df[k]=[i[p] for p in od[k]]"
   ]
  },
  {
   "cell_type": "code",
   "execution_count": 27,
   "id": "722ff4aa-de79-43ed-9dfd-728c6053561d",
   "metadata": {},
   "outputs": [],
   "source": [
    "le = LabelEncoder()\n",
    "le.fit(dep_variable)\n",
    "labels=dict(zip(set(dep_variable), set(le.transform(dep_variable))))"
   ]
  },
  {
   "cell_type": "code",
   "execution_count": 28,
   "id": "85286eec-abe3-401e-8831-e2154d592c1b",
   "metadata": {},
   "outputs": [
    {
     "data": {
      "text/html": [
       "<div>\n",
       "<style scoped>\n",
       "    .dataframe tbody tr th:only-of-type {\n",
       "        vertical-align: middle;\n",
       "    }\n",
       "\n",
       "    .dataframe tbody tr th {\n",
       "        vertical-align: top;\n",
       "    }\n",
       "\n",
       "    .dataframe thead th {\n",
       "        text-align: right;\n",
       "    }\n",
       "</style>\n",
       "<table border=\"1\" class=\"dataframe\">\n",
       "  <thead>\n",
       "    <tr style=\"text-align: right;\">\n",
       "      <th></th>\n",
       "      <th>gender</th>\n",
       "      <th>children</th>\n",
       "      <th>affairs</th>\n",
       "      <th>age</th>\n",
       "      <th>yearsmarried</th>\n",
       "      <th>religiousness</th>\n",
       "      <th>education</th>\n",
       "      <th>occupation</th>\n",
       "      <th>rating</th>\n",
       "      <th>had_affair</th>\n",
       "    </tr>\n",
       "  </thead>\n",
       "  <tbody>\n",
       "    <tr>\n",
       "      <th>0</th>\n",
       "      <td>1</td>\n",
       "      <td>0</td>\n",
       "      <td>1</td>\n",
       "      <td>3</td>\n",
       "      <td>3</td>\n",
       "      <td>3</td>\n",
       "      <td>4</td>\n",
       "      <td>4</td>\n",
       "      <td>4</td>\n",
       "      <td>0</td>\n",
       "    </tr>\n",
       "    <tr>\n",
       "      <th>1</th>\n",
       "      <td>1</td>\n",
       "      <td>0</td>\n",
       "      <td>1</td>\n",
       "      <td>3</td>\n",
       "      <td>2</td>\n",
       "      <td>3</td>\n",
       "      <td>3</td>\n",
       "      <td>3</td>\n",
       "      <td>4</td>\n",
       "      <td>0</td>\n",
       "    </tr>\n",
       "    <tr>\n",
       "      <th>2</th>\n",
       "      <td>1</td>\n",
       "      <td>1</td>\n",
       "      <td>1</td>\n",
       "      <td>3</td>\n",
       "      <td>4</td>\n",
       "      <td>4</td>\n",
       "      <td>4</td>\n",
       "      <td>4</td>\n",
       "      <td>3</td>\n",
       "      <td>0</td>\n",
       "    </tr>\n",
       "    <tr>\n",
       "      <th>3</th>\n",
       "      <td>0</td>\n",
       "      <td>0</td>\n",
       "      <td>1</td>\n",
       "      <td>3</td>\n",
       "      <td>1</td>\n",
       "      <td>4</td>\n",
       "      <td>3</td>\n",
       "      <td>2</td>\n",
       "      <td>3</td>\n",
       "      <td>0</td>\n",
       "    </tr>\n",
       "    <tr>\n",
       "      <th>4</th>\n",
       "      <td>1</td>\n",
       "      <td>1</td>\n",
       "      <td>1</td>\n",
       "      <td>3</td>\n",
       "      <td>3</td>\n",
       "      <td>4</td>\n",
       "      <td>4</td>\n",
       "      <td>3</td>\n",
       "      <td>4</td>\n",
       "      <td>0</td>\n",
       "    </tr>\n",
       "    <tr>\n",
       "      <th>...</th>\n",
       "      <td>...</td>\n",
       "      <td>...</td>\n",
       "      <td>...</td>\n",
       "      <td>...</td>\n",
       "      <td>...</td>\n",
       "      <td>...</td>\n",
       "      <td>...</td>\n",
       "      <td>...</td>\n",
       "      <td>...</td>\n",
       "      <td>...</td>\n",
       "    </tr>\n",
       "    <tr>\n",
       "      <th>596</th>\n",
       "      <td>1</td>\n",
       "      <td>1</td>\n",
       "      <td>4</td>\n",
       "      <td>3</td>\n",
       "      <td>2</td>\n",
       "      <td>3</td>\n",
       "      <td>3</td>\n",
       "      <td>3</td>\n",
       "      <td>3</td>\n",
       "      <td>1</td>\n",
       "    </tr>\n",
       "    <tr>\n",
       "      <th>597</th>\n",
       "      <td>0</td>\n",
       "      <td>1</td>\n",
       "      <td>4</td>\n",
       "      <td>3</td>\n",
       "      <td>4</td>\n",
       "      <td>2</td>\n",
       "      <td>4</td>\n",
       "      <td>4</td>\n",
       "      <td>4</td>\n",
       "      <td>1</td>\n",
       "    </tr>\n",
       "    <tr>\n",
       "      <th>598</th>\n",
       "      <td>0</td>\n",
       "      <td>1</td>\n",
       "      <td>4</td>\n",
       "      <td>3</td>\n",
       "      <td>4</td>\n",
       "      <td>4</td>\n",
       "      <td>3</td>\n",
       "      <td>1</td>\n",
       "      <td>3</td>\n",
       "      <td>1</td>\n",
       "    </tr>\n",
       "    <tr>\n",
       "      <th>599</th>\n",
       "      <td>0</td>\n",
       "      <td>1</td>\n",
       "      <td>4</td>\n",
       "      <td>3</td>\n",
       "      <td>3</td>\n",
       "      <td>3</td>\n",
       "      <td>4</td>\n",
       "      <td>4</td>\n",
       "      <td>4</td>\n",
       "      <td>1</td>\n",
       "    </tr>\n",
       "    <tr>\n",
       "      <th>600</th>\n",
       "      <td>1</td>\n",
       "      <td>1</td>\n",
       "      <td>4</td>\n",
       "      <td>2</td>\n",
       "      <td>2</td>\n",
       "      <td>3</td>\n",
       "      <td>4</td>\n",
       "      <td>4</td>\n",
       "      <td>4</td>\n",
       "      <td>1</td>\n",
       "    </tr>\n",
       "  </tbody>\n",
       "</table>\n",
       "<p>601 rows × 10 columns</p>\n",
       "</div>"
      ],
      "text/plain": [
       "    gender children  affairs  age  yearsmarried  religiousness  education  \\\n",
       "0        1        0        1    3             3              3          4   \n",
       "1        1        0        1    3             2              3          3   \n",
       "2        1        1        1    3             4              4          4   \n",
       "3        0        0        1    3             1              4          3   \n",
       "4        1        1        1    3             3              4          4   \n",
       "..     ...      ...      ...  ...           ...            ...        ...   \n",
       "596      1        1        4    3             2              3          3   \n",
       "597      0        1        4    3             4              2          4   \n",
       "598      0        1        4    3             4              4          3   \n",
       "599      0        1        4    3             3              3          4   \n",
       "600      1        1        4    2             2              3          4   \n",
       "\n",
       "     occupation  rating  had_affair  \n",
       "0             4       4           0  \n",
       "1             3       4           0  \n",
       "2             4       3           0  \n",
       "3             2       3           0  \n",
       "4             3       4           0  \n",
       "..          ...     ...         ...  \n",
       "596           3       3           1  \n",
       "597           4       4           1  \n",
       "598           1       3           1  \n",
       "599           4       4           1  \n",
       "600           4       4           1  \n",
       "\n",
       "[601 rows x 10 columns]"
      ]
     },
     "execution_count": 28,
     "metadata": {},
     "output_type": "execute_result"
    }
   ],
   "source": [
    "df[\"had_affair\"]=[labels[i] for i in dep_variable]\n",
    "df"
   ]
  },
  {
   "cell_type": "code",
   "execution_count": 29,
   "id": "73cb4d0a-ca05-4d24-a70a-db75ec64b5ab",
   "metadata": {},
   "outputs": [],
   "source": [
    "#create data variables for independent features. Ouput variable count\n",
    "def independent_variables(data, target_column):\n",
    "\tind_var = (data.drop(target_column, axis=1))\n",
    "\treturn ind_var\n",
    "\n",
    "independent_variable=independent_variables(df, \"had_affair\")\n",
    "#len(independent_variable.columns)\n",
    "\n",
    "#create a list of feature names for independent variables to be used for labeling later\n",
    "ind_var_list=list(independent_variable.columns)\n",
    "\n",
    "#create data variables for dependent features\n",
    "def dependent_variables(target_column):\n",
    "\tdep_var = (target_column)\n",
    "\treturn dep_var\n",
    "\n",
    "dependent_variable=dependent_variables(df[[\"had_affair\"]])\n",
    "#dependent_variable.columns\n",
    "\n",
    "#split independent and depentent features into a training set(70%) and a testing set(30%)\n",
    "train_features, test_features, train_labels, test_labels = train_test_split(independent_variable,\n",
    "dependent_variable,test_size = 0.30,random_state = 42)"
   ]
  },
  {
   "cell_type": "code",
   "execution_count": 30,
   "id": "de73fd64-f852-4f57-9a23-e5a58148af86",
   "metadata": {},
   "outputs": [
    {
     "data": {
      "text/html": [
       "<div>\n",
       "<style scoped>\n",
       "    .dataframe tbody tr th:only-of-type {\n",
       "        vertical-align: middle;\n",
       "    }\n",
       "\n",
       "    .dataframe tbody tr th {\n",
       "        vertical-align: top;\n",
       "    }\n",
       "\n",
       "    .dataframe thead th {\n",
       "        text-align: right;\n",
       "    }\n",
       "</style>\n",
       "<table border=\"1\" class=\"dataframe\">\n",
       "  <thead>\n",
       "    <tr style=\"text-align: right;\">\n",
       "      <th></th>\n",
       "      <th>gender</th>\n",
       "      <th>children</th>\n",
       "      <th>affairs</th>\n",
       "      <th>age</th>\n",
       "      <th>yearsmarried</th>\n",
       "      <th>religiousness</th>\n",
       "      <th>education</th>\n",
       "      <th>occupation</th>\n",
       "      <th>rating</th>\n",
       "    </tr>\n",
       "  </thead>\n",
       "  <tbody>\n",
       "    <tr>\n",
       "      <th>272</th>\n",
       "      <td>1</td>\n",
       "      <td>1</td>\n",
       "      <td>1</td>\n",
       "      <td>4</td>\n",
       "      <td>4</td>\n",
       "      <td>4</td>\n",
       "      <td>4</td>\n",
       "      <td>4</td>\n",
       "      <td>3</td>\n",
       "    </tr>\n",
       "    <tr>\n",
       "      <th>600</th>\n",
       "      <td>1</td>\n",
       "      <td>1</td>\n",
       "      <td>4</td>\n",
       "      <td>2</td>\n",
       "      <td>2</td>\n",
       "      <td>3</td>\n",
       "      <td>4</td>\n",
       "      <td>4</td>\n",
       "      <td>4</td>\n",
       "    </tr>\n",
       "    <tr>\n",
       "      <th>479</th>\n",
       "      <td>0</td>\n",
       "      <td>1</td>\n",
       "      <td>1</td>\n",
       "      <td>3</td>\n",
       "      <td>3</td>\n",
       "      <td>4</td>\n",
       "      <td>4</td>\n",
       "      <td>1</td>\n",
       "      <td>4</td>\n",
       "    </tr>\n",
       "    <tr>\n",
       "      <th>436</th>\n",
       "      <td>0</td>\n",
       "      <td>1</td>\n",
       "      <td>1</td>\n",
       "      <td>4</td>\n",
       "      <td>4</td>\n",
       "      <td>4</td>\n",
       "      <td>4</td>\n",
       "      <td>1</td>\n",
       "      <td>2</td>\n",
       "    </tr>\n",
       "    <tr>\n",
       "      <th>383</th>\n",
       "      <td>0</td>\n",
       "      <td>1</td>\n",
       "      <td>1</td>\n",
       "      <td>3</td>\n",
       "      <td>4</td>\n",
       "      <td>3</td>\n",
       "      <td>3</td>\n",
       "      <td>2</td>\n",
       "      <td>3</td>\n",
       "    </tr>\n",
       "    <tr>\n",
       "      <th>...</th>\n",
       "      <td>...</td>\n",
       "      <td>...</td>\n",
       "      <td>...</td>\n",
       "      <td>...</td>\n",
       "      <td>...</td>\n",
       "      <td>...</td>\n",
       "      <td>...</td>\n",
       "      <td>...</td>\n",
       "      <td>...</td>\n",
       "    </tr>\n",
       "    <tr>\n",
       "      <th>71</th>\n",
       "      <td>0</td>\n",
       "      <td>1</td>\n",
       "      <td>1</td>\n",
       "      <td>4</td>\n",
       "      <td>4</td>\n",
       "      <td>4</td>\n",
       "      <td>2</td>\n",
       "      <td>4</td>\n",
       "      <td>4</td>\n",
       "    </tr>\n",
       "    <tr>\n",
       "      <th>106</th>\n",
       "      <td>0</td>\n",
       "      <td>1</td>\n",
       "      <td>1</td>\n",
       "      <td>2</td>\n",
       "      <td>2</td>\n",
       "      <td>3</td>\n",
       "      <td>4</td>\n",
       "      <td>1</td>\n",
       "      <td>4</td>\n",
       "    </tr>\n",
       "    <tr>\n",
       "      <th>270</th>\n",
       "      <td>0</td>\n",
       "      <td>1</td>\n",
       "      <td>1</td>\n",
       "      <td>3</td>\n",
       "      <td>4</td>\n",
       "      <td>4</td>\n",
       "      <td>3</td>\n",
       "      <td>1</td>\n",
       "      <td>4</td>\n",
       "    </tr>\n",
       "    <tr>\n",
       "      <th>435</th>\n",
       "      <td>1</td>\n",
       "      <td>1</td>\n",
       "      <td>1</td>\n",
       "      <td>2</td>\n",
       "      <td>2</td>\n",
       "      <td>4</td>\n",
       "      <td>3</td>\n",
       "      <td>4</td>\n",
       "      <td>3</td>\n",
       "    </tr>\n",
       "    <tr>\n",
       "      <th>102</th>\n",
       "      <td>0</td>\n",
       "      <td>0</td>\n",
       "      <td>1</td>\n",
       "      <td>2</td>\n",
       "      <td>1</td>\n",
       "      <td>3</td>\n",
       "      <td>3</td>\n",
       "      <td>4</td>\n",
       "      <td>4</td>\n",
       "    </tr>\n",
       "  </tbody>\n",
       "</table>\n",
       "<p>420 rows × 9 columns</p>\n",
       "</div>"
      ],
      "text/plain": [
       "    gender children  affairs  age  yearsmarried  religiousness  education  \\\n",
       "272      1        1        1    4             4              4          4   \n",
       "600      1        1        4    2             2              3          4   \n",
       "479      0        1        1    3             3              4          4   \n",
       "436      0        1        1    4             4              4          4   \n",
       "383      0        1        1    3             4              3          3   \n",
       "..     ...      ...      ...  ...           ...            ...        ...   \n",
       "71       0        1        1    4             4              4          2   \n",
       "106      0        1        1    2             2              3          4   \n",
       "270      0        1        1    3             4              4          3   \n",
       "435      1        1        1    2             2              4          3   \n",
       "102      0        0        1    2             1              3          3   \n",
       "\n",
       "     occupation  rating  \n",
       "272           4       3  \n",
       "600           4       4  \n",
       "479           1       4  \n",
       "436           1       2  \n",
       "383           2       3  \n",
       "..          ...     ...  \n",
       "71            4       4  \n",
       "106           1       4  \n",
       "270           1       4  \n",
       "435           4       3  \n",
       "102           4       4  \n",
       "\n",
       "[420 rows x 9 columns]"
      ]
     },
     "execution_count": 30,
     "metadata": {},
     "output_type": "execute_result"
    }
   ],
   "source": [
    "train_features"
   ]
  },
  {
   "cell_type": "code",
   "execution_count": 31,
   "id": "48b32843-1e56-418a-aba6-f96c74a35ef3",
   "metadata": {},
   "outputs": [
    {
     "data": {
      "text/html": [
       "<div>\n",
       "<style scoped>\n",
       "    .dataframe tbody tr th:only-of-type {\n",
       "        vertical-align: middle;\n",
       "    }\n",
       "\n",
       "    .dataframe tbody tr th {\n",
       "        vertical-align: top;\n",
       "    }\n",
       "\n",
       "    .dataframe thead th {\n",
       "        text-align: right;\n",
       "    }\n",
       "</style>\n",
       "<table border=\"1\" class=\"dataframe\">\n",
       "  <thead>\n",
       "    <tr style=\"text-align: right;\">\n",
       "      <th></th>\n",
       "      <th>had_affair</th>\n",
       "    </tr>\n",
       "  </thead>\n",
       "  <tbody>\n",
       "    <tr>\n",
       "      <th>272</th>\n",
       "      <td>0</td>\n",
       "    </tr>\n",
       "    <tr>\n",
       "      <th>600</th>\n",
       "      <td>1</td>\n",
       "    </tr>\n",
       "    <tr>\n",
       "      <th>479</th>\n",
       "      <td>1</td>\n",
       "    </tr>\n",
       "    <tr>\n",
       "      <th>436</th>\n",
       "      <td>0</td>\n",
       "    </tr>\n",
       "    <tr>\n",
       "      <th>383</th>\n",
       "      <td>0</td>\n",
       "    </tr>\n",
       "    <tr>\n",
       "      <th>...</th>\n",
       "      <td>...</td>\n",
       "    </tr>\n",
       "    <tr>\n",
       "      <th>71</th>\n",
       "      <td>0</td>\n",
       "    </tr>\n",
       "    <tr>\n",
       "      <th>106</th>\n",
       "      <td>0</td>\n",
       "    </tr>\n",
       "    <tr>\n",
       "      <th>270</th>\n",
       "      <td>0</td>\n",
       "    </tr>\n",
       "    <tr>\n",
       "      <th>435</th>\n",
       "      <td>0</td>\n",
       "    </tr>\n",
       "    <tr>\n",
       "      <th>102</th>\n",
       "      <td>0</td>\n",
       "    </tr>\n",
       "  </tbody>\n",
       "</table>\n",
       "<p>420 rows × 1 columns</p>\n",
       "</div>"
      ],
      "text/plain": [
       "     had_affair\n",
       "272           0\n",
       "600           1\n",
       "479           1\n",
       "436           0\n",
       "383           0\n",
       "..          ...\n",
       "71            0\n",
       "106           0\n",
       "270           0\n",
       "435           0\n",
       "102           0\n",
       "\n",
       "[420 rows x 1 columns]"
      ]
     },
     "execution_count": 31,
     "metadata": {},
     "output_type": "execute_result"
    }
   ],
   "source": [
    "train_labels"
   ]
  },
  {
   "cell_type": "code",
   "execution_count": 32,
   "id": "f6789380-5505-467d-be27-1c25d9acb46e",
   "metadata": {},
   "outputs": [],
   "source": [
    "def classifier_scoring (train_feature, test_feature, train_label, test_label):\n",
    "\t\"\"\"\n",
    "\tbuild a list of classifiers to be used in pipeline for multi model scoring that will be used\n",
    "\tto select top model\n",
    "\t\"\"\"\n",
    "\tclassifiers = [\n",
    "\tRandomForestClassifier(random_state=42),\n",
    "\tSVC(random_state=42),\n",
    "\tGradientBoostingClassifier(random_state=42),\n",
    "\tLogisticRegression(random_state=42)\n",
    "\t]\n",
    "\t\"\"\"\n",
    "\tbuild pipeline for the 4 classifiers and print cross validation scores\n",
    "\toutput is a list of 4 scores in decimal form, \"Scores 0.7165805316291562\"\n",
    "\t\"\"\"\n",
    "\tscores=[]\n",
    "\tfor i in classifiers:\n",
    "\t\tpipe = Pipeline(steps=[('classifier', i)])\n",
    "\t\tpi=pipe.fit(train_features, train_labels)\n",
    "\t\tscores.append(cross_val_score(pi, test_features, test_labels, cv=5,\n",
    "\t\tverbose=True).mean())\n",
    "\treturn [\"Random Forest\", \"SVC\", \"Gradient Boosting\",\n",
    "\t\"Logistic Regression\"], scores"
   ]
  },
  {
   "cell_type": "code",
   "execution_count": 33,
   "id": "e5241afe-c56a-4e34-acee-3766619bbf61",
   "metadata": {},
   "outputs": [],
   "source": [
    "score_results=classifier_scoring(train_features, test_features,\n",
    "\ttrain_labels, test_labels)"
   ]
  },
  {
   "cell_type": "code",
   "execution_count": 34,
   "id": "e6fc5194-8b34-41d4-b2b9-6354e1b3ebf3",
   "metadata": {},
   "outputs": [
    {
     "data": {
      "text/html": [
       "<div>\n",
       "<style scoped>\n",
       "    .dataframe tbody tr th:only-of-type {\n",
       "        vertical-align: middle;\n",
       "    }\n",
       "\n",
       "    .dataframe tbody tr th {\n",
       "        vertical-align: top;\n",
       "    }\n",
       "\n",
       "    .dataframe thead th {\n",
       "        text-align: right;\n",
       "    }\n",
       "</style>\n",
       "<table border=\"1\" class=\"dataframe\">\n",
       "  <thead>\n",
       "    <tr style=\"text-align: right;\">\n",
       "      <th></th>\n",
       "      <th>model</th>\n",
       "      <th>score</th>\n",
       "    </tr>\n",
       "  </thead>\n",
       "  <tbody>\n",
       "    <tr>\n",
       "      <th>1</th>\n",
       "      <td>SVC</td>\n",
       "      <td>0.944595</td>\n",
       "    </tr>\n",
       "    <tr>\n",
       "      <th>3</th>\n",
       "      <td>Logistic Regression</td>\n",
       "      <td>0.944595</td>\n",
       "    </tr>\n",
       "    <tr>\n",
       "      <th>0</th>\n",
       "      <td>Random Forest</td>\n",
       "      <td>0.927928</td>\n",
       "    </tr>\n",
       "    <tr>\n",
       "      <th>2</th>\n",
       "      <td>Gradient Boosting</td>\n",
       "      <td>0.927928</td>\n",
       "    </tr>\n",
       "  </tbody>\n",
       "</table>\n",
       "</div>"
      ],
      "text/plain": [
       "                 model     score\n",
       "1                  SVC  0.944595\n",
       "3  Logistic Regression  0.944595\n",
       "0        Random Forest  0.927928\n",
       "2    Gradient Boosting  0.927928"
      ]
     },
     "execution_count": 34,
     "metadata": {},
     "output_type": "execute_result"
    }
   ],
   "source": [
    "pd.concat([pd.Series(score_results[0], name=\"model\"), pd.Series(score_results[1], name=\"score\")], axis=1).sort_values(by=\"score\", ascending=False)"
   ]
  },
  {
   "cell_type": "code",
   "execution_count": 35,
   "id": "ad539bc8-d7a7-4044-aabb-de0b9aed8e8f",
   "metadata": {},
   "outputs": [],
   "source": [
    "def predct (model):\n",
    "\tpredictions = model.predict(test_features)\n",
    "\tpredictions = predictions.reshape((predictions.shape[0], 1))\n",
    "\treturn predictions"
   ]
  },
  {
   "cell_type": "code",
   "execution_count": 36,
   "id": "06cee9dc-dc10-42cf-b960-f6fa2c69cd73",
   "metadata": {},
   "outputs": [],
   "source": [
    "\"\"\"\n",
    "Create subset training set for the logistic regression model.\n",
    "\"It is important to train the ensemble of trees on a different subset\n",
    "of the training data than the linear regression model to avoid\n",
    "overfitting, in particular if the total number of leaves is\n",
    "similar to the number of training samples\" (Pedregosa et al, 2011)\n",
    "\"\"\"\n",
    "#create and fit the subset training data on logistic regression model\n",
    "rt_lm = LogisticRegression(solver='liblinear', max_iter=1000, random_state=42)\n",
    "rt_lm.fit(train_features, train_labels)\n",
    "\n",
    "#Use previous created function to produce binary predictions\n",
    "lg_model=predct(rt_lm)\n",
    "\n",
    "#incorporate prediction results into the confusion matrix and generate metric reports\n",
    "tree_confusionlr=confusion_matrix(test_labels, lg_model)"
   ]
  },
  {
   "cell_type": "code",
   "execution_count": 59,
   "id": "8b37f199-10fd-4281-b541-5b7a66dedb1e",
   "metadata": {},
   "outputs": [
    {
     "data": {
      "text/plain": [
       "array([[139,   0],\n",
       "       [  9,  33]], dtype=int64)"
      ]
     },
     "execution_count": 59,
     "metadata": {},
     "output_type": "execute_result"
    }
   ],
   "source": [
    "tree_confusionlr"
   ]
  },
  {
   "cell_type": "code",
   "execution_count": 37,
   "id": "fbd67e1a-bb6c-41f1-a7a2-b29c94f39844",
   "metadata": {},
   "outputs": [
    {
     "data": {
      "text/plain": [
       "['rt_lm.pkl']"
      ]
     },
     "execution_count": 37,
     "metadata": {},
     "output_type": "execute_result"
    }
   ],
   "source": [
    "import joblib\n",
    "joblib.dump(rt_lm, 'rt_lm.pkl')"
   ]
  },
  {
   "cell_type": "code",
   "execution_count": 38,
   "id": "b9b74671-cb2c-4499-8dab-9f1064448a52",
   "metadata": {},
   "outputs": [
    {
     "name": "stdout",
     "output_type": "stream",
     "text": [
      "Logistic Regression Confusion Matrix: [[139   0]\n",
      " [  9  33]]\n",
      "              precision    recall  f1-score   support\n",
      "\n",
      "           0       0.94      1.00      0.97       139\n",
      "           1       1.00      0.79      0.88        42\n",
      "\n",
      "    accuracy                           0.95       181\n",
      "   macro avg       0.97      0.89      0.92       181\n",
      "weighted avg       0.95      0.95      0.95       181\n",
      "\n"
     ]
    }
   ],
   "source": [
    "print(\"Logistic Regression Confusion Matrix: {}\".format(tree_confusionlr))\n",
    "tree_class_reportlr=classification_report(test_labels, lg_model)\n",
    "\n",
    "print(tree_class_reportlr)"
   ]
  },
  {
   "cell_type": "code",
   "execution_count": 39,
   "id": "073a4c34-d45c-4270-8649-c7a7c00664b1",
   "metadata": {},
   "outputs": [],
   "source": [
    "\"\"\"\n",
    "create metric function that calculates accuracy, missclassifications, precision,\n",
    "sensitivity based on the results of the confusion matrix. Output is a list with\n",
    "values for each metric in the format ('Precision: [0.33]', 'Sensitivity: [0.714]'), etc...\n",
    "\"\"\"\n",
    "def metric (confusion_matrix):\n",
    "\t#add exception to state that if error here, then confusion matrix format changed\n",
    "\ttry:\n",
    "\t\tcm1=np.split(confusion_matrix[0],2)\n",
    "\t\tcm2=np.split(confusion_matrix[1],2)\n",
    "\t\ttn=cm1[0]\n",
    "\t\tfn=cm1[1]\n",
    "\t\tfp=cm2[0]\n",
    "\t\ttp=cm2[1]\n",
    "\t\taccuracy=(tn+tp)/(tn+fn+fp+tp)\n",
    "\t\tmissclass=(fn+fp)/(tn+fn+fp+tp)\n",
    "\t\tprecision=tp/(fp+tp)\n",
    "\t\tsensitivity=tp/(fn+tp)\n",
    "\texcept TypeError:\n",
    "\t\tprint(\"Problem with confusion matrix. Fix format!\")\n",
    "\telse:\n",
    "\t\tpass\n",
    "\n",
    "\treturn [\"Accuracy: {}\".format(np.round(accuracy,3)),\n",
    "\t\"Missclassification: {}\".format(np.round(missclass,3)),\n",
    "\t\"Precision: {}\".format(np.round(precision, 3)),\n",
    "\t\"Sensitivity: {}\".format(np.round(sensitivity, 3))]"
   ]
  },
  {
   "cell_type": "code",
   "execution_count": 40,
   "id": "1031c050-0838-405f-82fa-df269fb75005",
   "metadata": {},
   "outputs": [
    {
     "name": "stdout",
     "output_type": "stream",
     "text": [
      "['Accuracy: [0.95]', 'Missclassification: [0.05]', 'Precision: [0.786]', 'Sensitivity: [1.]']\n"
     ]
    }
   ],
   "source": [
    "\"\"\"\n",
    "Using previous function created, calculate accuracy, missclassifications, precision,\n",
    "sensitivity based on the results of the confusion matrix. Output is a list with\n",
    "values for each metric in the format ('Precision: [0.429]', 'Sensitivity: [0.696]'), etc...\n",
    "\"\"\"\n",
    "\n",
    "print(metric(tree_confusionlr))"
   ]
  },
  {
   "cell_type": "code",
   "execution_count": 41,
   "id": "061eeb21-4e3f-4bf1-b2d9-9e3246fbc967",
   "metadata": {},
   "outputs": [],
   "source": [
    "\"\"\"\n",
    "Create a function to get a list of the top 5 importance features based on model results, and\n",
    "chart importance features. Output is a list of important features with their\n",
    "importance values. Importance value calculate with built-in model feature_importance_.\n",
    "The chart is a bar chart.\n",
    "\"\"\"\n",
    "# Get numerical feature importances\n",
    "def important_list (var_list, importances):\n",
    "\t# List of tuples with variable and importance\n",
    "\tfeature_importances = [(feature, round(importance, 2)) for feature,\n",
    "\timportance in zip(var_list, importances)]\n",
    "\t# Sort the feature importances by most important first\n",
    "\tfeature_importances = sorted(feature_importances,\n",
    "\tkey = lambda x: x[1], reverse = True)\n",
    "\t# list of x locations for plotting\n",
    "\tx_values = list(range(len(importances)))\n",
    "\treturn[ # Make a bar chart\n",
    "\tplt.bar(x_values, importances, orientation = 'vertical',\n",
    "\tcolor = 'r', edgecolor = 'k', linewidth = 1.2),\n",
    "\t# Tick labels for x axis\n",
    "\tplt.xticks(x_values, var_list, rotation='vertical'),\n",
    "\t# Axis labels and title\n",
    "\tplt.ylabel('Importance'), plt.xlabel('Variable'), plt.title('Variable Importances'),\n",
    "\tfeature_importances[0:5]]"
   ]
  },
  {
   "cell_type": "code",
   "execution_count": 42,
   "id": "1bcbb408-a6d0-4212-b5af-067f0ff7cfa0",
   "metadata": {},
   "outputs": [
    {
     "data": {
      "text/plain": [
       "[<BarContainer object of 9 artists>,\n",
       " ([<matplotlib.axis.XTick at 0x1d1cc822bd0>,\n",
       "   <matplotlib.axis.XTick at 0x1d1cc822a80>,\n",
       "   <matplotlib.axis.XTick at 0x1d1cc823890>,\n",
       "   <matplotlib.axis.XTick at 0x1d1cc6afda0>,\n",
       "   <matplotlib.axis.XTick at 0x1d1cc89d1c0>,\n",
       "   <matplotlib.axis.XTick at 0x1d1ca59f9e0>,\n",
       "   <matplotlib.axis.XTick at 0x1d1cc89ddf0>,\n",
       "   <matplotlib.axis.XTick at 0x1d1cc89e6f0>,\n",
       "   <matplotlib.axis.XTick at 0x1d1cc89f0b0>],\n",
       "  [Text(0, 0, 'gender'),\n",
       "   Text(1, 0, 'children'),\n",
       "   Text(2, 0, 'affairs'),\n",
       "   Text(3, 0, 'age'),\n",
       "   Text(4, 0, 'yearsmarried'),\n",
       "   Text(5, 0, 'religiousness'),\n",
       "   Text(6, 0, 'education'),\n",
       "   Text(7, 0, 'occupation'),\n",
       "   Text(8, 0, 'rating')]),\n",
       " Text(0, 0.5, 'Importance'),\n",
       " Text(0.5, 0, 'Variable'),\n",
       " Text(0.5, 1.0, 'Variable Importances'),\n",
       " [('affairs', 3.35),\n",
       "  ('children', 0.79),\n",
       "  ('rating', 0.74),\n",
       "  ('gender', 0.64),\n",
       "  ('age', 0.53)]]"
      ]
     },
     "execution_count": 42,
     "metadata": {},
     "output_type": "execute_result"
    },
    {
     "data": {
      "image/png": "[encoded data removed]",
      "text/plain": [
       "<Figure size 1500x600 with 1 Axes>"
      ]
     },
     "metadata": {},
     "output_type": "display_data"
    }
   ],
   "source": [
    "\"\"\"\n",
    "Using previous function created, get a list of the top 5 importance\n",
    "features based on model results, and chart importance features.\n",
    "Output is a list of important features with their\n",
    "importance values. Importance value calculate with built-in model feature_importance_.\n",
    "The chart is a bar chart.\n",
    "Transform and get numerical feature importances. Shape was modified to accomodate\n",
    "unique features of the logistic regression model\n",
    "\"\"\"\n",
    "\n",
    "lg_coef=rt_lm.coef_.transpose()\n",
    "lg_coef=lg_coef.reshape(lg_coef.shape[0], )\n",
    "lg_importances = list(abs(lg_coef))\n",
    "results=important_list(ind_var_list,lg_importances)\n",
    "results"
   ]
  },
  {
   "cell_type": "code",
   "execution_count": 43,
   "id": "8f19ee44-9513-4efd-819e-d2d3370f38c5",
   "metadata": {},
   "outputs": [],
   "source": [
    "#create variables for prediction probabilities for each model\n",
    "y_pred_rt = rt_lm.predict_proba(test_features)[:,1]\n",
    "#Create variables for precision/recall curve using predicted probability variables with test labels\n",
    "fpr_rt_lm2, tpr_rt_lm2, _ = precision_recall_curve(test_labels, y_pred_rt)"
   ]
  },
  {
   "cell_type": "code",
   "execution_count": 44,
   "id": "7eea6d02-b1cd-4484-a23b-7eefca95ab83",
   "metadata": {},
   "outputs": [
    {
     "name": "stdout",
     "output_type": "stream",
     "text": [
      "LG Average Precision/Recall Score 0.8699\n"
     ]
    }
   ],
   "source": [
    "\"\"\"\n",
    "Calculate average precision/recall score for each model and plot\n",
    "and plot the precision/recall curve for each model using\n",
    "precision/recall score for labeling. Out put for scores are\n",
    "(\"RF Average Precision/Recall Score 0.6331\",\n",
    "\"LG Average Precision/Recall Score 0.5289\"), etc...\n",
    "\"\"\"\n",
    "\n",
    "print(\"LG Average Precision/Recall Score {}\".format(round(average_precision_score(test_labels, y_pred_rt),4)))"
   ]
  },
  {
   "cell_type": "code",
   "execution_count": 45,
   "id": "d238a50a-c438-4a41-a079-77045d263d10",
   "metadata": {},
   "outputs": [
    {
     "data": {
      "image/png": "[encoded data removed]",
      "text/plain": [
       "<Figure size 1500x600 with 1 Axes>"
      ]
     },
     "metadata": {},
     "output_type": "display_data"
    }
   ],
   "source": [
    "plt.figure(1)\n",
    "#plt.plot([0, 1], [0, 1], 'k--')\n",
    "plt.plot(fpr_rt_lm2, tpr_rt_lm2, label=\"LG Average Precision/Recall Score {}\".format(round(average_precision_score(test_labels, y_pred_rt),4)))\n",
    "plt.xlabel('Precision')\n",
    "plt.ylabel('Sensitivity')\n",
    "plt.title('Logistic Regression Recall/Sensitity ROC curve')\n",
    "plt.legend(loc='best')\n",
    "plt.show()"
   ]
  },
  {
   "cell_type": "code",
   "execution_count": 46,
   "id": "a23b9e01-939e-4829-a062-feda46ed8dfe",
   "metadata": {},
   "outputs": [
    {
     "data": {
      "image/png": "[encoded data removed]",
      "text/plain": [
       "<Figure size 1500x600 with 1 Axes>"
      ]
     },
     "metadata": {},
     "output_type": "display_data"
    }
   ],
   "source": [
    "#create variables for ROC curve for each model\n",
    "fpr_rt_lm, tpr_rt_lm, _ = roc_curve(test_labels, y_pred_rt)\n",
    "\n",
    "\"\"\"\n",
    "Plot the precision/recall curve for each model\n",
    "\"\"\"\n",
    "plt.figure(1)\n",
    "plt.plot([0, 1], [0, 1], 'k--')\n",
    "plt.plot(fpr_rt_lm, tpr_rt_lm, label='LR')#.format(round(roc_auc_score(test_labels, y_pred_rt), 4)))\n",
    "plt.xlabel('False positive rate')\n",
    "plt.ylabel('True positive rate')\n",
    "plt.title('Logistic Regression TP Rate/Probability ROC curve')\n",
    "plt.legend(loc='best')\n",
    "plt.show()"
   ]
  },
  {
   "cell_type": "code",
   "execution_count": 47,
   "id": "fbad74e7-a270-40b7-90c9-12401b0ffdd3",
   "metadata": {},
   "outputs": [
    {
     "name": "stdout",
     "output_type": "stream",
     "text": [
      "LG ROC Score 0.8938\n"
     ]
    }
   ],
   "source": [
    "\"\"\"\n",
    "print ROC_AUC scores\n",
    "\"\"\"\n",
    "print(\"LG ROC Score {}\".format(round(roc_auc_score(test_labels,y_pred_rt), 4)))"
   ]
  },
  {
   "cell_type": "code",
   "execution_count": 48,
   "id": "0246e56f-1df1-4975-a77b-e9a93ab25dc1",
   "metadata": {},
   "outputs": [
    {
     "data": {
      "text/plain": [
       "['affairs', 'children', 'rating', 'gender', 'age']"
      ]
     },
     "execution_count": 48,
     "metadata": {},
     "output_type": "execute_result"
    }
   ],
   "source": [
    "featuresforreview=[i[0] for i in results[-1]]\n",
    "featuresforreview"
   ]
  },
  {
   "cell_type": "code",
   "execution_count": 49,
   "id": "f075bb0f-5aa8-40f2-892d-859b3c20d246",
   "metadata": {},
   "outputs": [
    {
     "name": "stdout",
     "output_type": "stream",
     "text": [
      "affairs\n",
      "0     451\n",
      "7      42\n",
      "12     38\n",
      "1      34\n",
      "3      19\n",
      "2      17\n",
      "Name: count, dtype: int64\n",
      "gender\n",
      "female    315\n",
      "male      286\n",
      "Name: count, dtype: int64\n",
      "age\n",
      "27.0    153\n",
      "22.0    117\n",
      "32.0    115\n",
      "37.0     88\n",
      "42.0     56\n",
      "47.0     23\n",
      "57.0     22\n",
      "52.0     21\n",
      "17.5      6\n",
      "Name: count, dtype: int64\n",
      "yearsmarried\n",
      "15.000    204\n",
      "4.000     105\n",
      "1.500      88\n",
      "7.000      82\n",
      "10.000     70\n",
      "0.750      31\n",
      "0.125      11\n",
      "0.417      10\n",
      "Name: count, dtype: int64\n",
      "children\n",
      "yes    430\n",
      "no     171\n",
      "Name: count, dtype: int64\n",
      "religiousness\n",
      "4    190\n",
      "2    164\n",
      "3    129\n",
      "5     70\n",
      "1     48\n",
      "Name: count, dtype: int64\n",
      "education\n",
      "14    154\n",
      "16    115\n",
      "18    112\n",
      "17     89\n",
      "20     80\n",
      "12     44\n",
      "9       7\n",
      "Name: count, dtype: int64\n",
      "occupation\n",
      "5    204\n",
      "6    143\n",
      "1    113\n",
      "4     68\n",
      "3     47\n",
      "7     13\n",
      "2     13\n",
      "Name: count, dtype: int64\n",
      "rating\n",
      "5    232\n",
      "4    194\n",
      "3     93\n",
      "2     66\n",
      "1     16\n",
      "Name: count, dtype: int64\n"
     ]
    }
   ],
   "source": [
    "for i in od.columns:\n",
    "    print(od[i].value_counts())"
   ]
  },
  {
   "cell_type": "code",
   "execution_count": null,
   "id": "e0f9b2a3-1031-402e-82c5-22442bd863f1",
   "metadata": {},
   "outputs": [],
   "source": []
  }
 ],
 "metadata": {
  "kernelspec": {
   "display_name": "Python 3 (ipykernel)",
   "language": "python",
   "name": "python3"
  },
  "language_info": {
   "codemirror_mode": {
    "name": "ipython",
    "version": 3
   },
   "file_extension": ".py",
   "mimetype": "text/x-python",
   "name": "python",
   "nbconvert_exporter": "python",
   "pygments_lexer": "ipython3",
   "version": "3.12.4"
  }
 },
 "nbformat": 4,
 "nbformat_minor": 5
}
